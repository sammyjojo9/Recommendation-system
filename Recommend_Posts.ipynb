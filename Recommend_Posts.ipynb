{
  "nbformat": 4,
  "nbformat_minor": 0,
  "metadata": {
    "colab": {
      "name": "Recommend Posts.ipynb",
      "provenance": [],
      "authorship_tag": "ABX9TyOAZGVLPcycbETHIH7urw7G",
      "include_colab_link": true
    },
    "kernelspec": {
      "name": "python3",
      "display_name": "Python 3"
    }
  },
  "cells": [
    {
      "cell_type": "markdown",
      "metadata": {
        "id": "view-in-github",
        "colab_type": "text"
      },
      "source": [
        "<a href=\"https://colab.research.google.com/github/sammyjojo9/Recommendation-system/blob/master/Recommend_Posts.ipynb\" target=\"_parent\"><img src=\"https://colab.research.google.com/assets/colab-badge.svg\" alt=\"Open In Colab\"/></a>"
      ]
    },
    {
      "cell_type": "code",
      "metadata": {
        "id": "LoNngf6bzA0z",
        "colab_type": "code",
        "colab": {}
      },
      "source": [
        "import pandas as pd\n",
        "import numpy as np"
      ],
      "execution_count": 0,
      "outputs": []
    },
    {
      "cell_type": "code",
      "metadata": {
        "id": "0_ZfvBZF3oqi",
        "colab_type": "code",
        "outputId": "5ea47056-66e6-4972-cae6-d01198db6d8f",
        "colab": {
          "base_uri": "https://localhost:8080/",
          "height": 35
        }
      },
      "source": [
        "from google.colab import drive\n",
        "drive.mount('/content/drive')"
      ],
      "execution_count": 2,
      "outputs": [
        {
          "output_type": "stream",
          "text": [
            "Drive already mounted at /content/drive; to attempt to forcibly remount, call drive.mount(\"/content/drive\", force_remount=True).\n"
          ],
          "name": "stdout"
        }
      ]
    },
    {
      "cell_type": "code",
      "metadata": {
        "id": "djI7FcNx30o6",
        "colab_type": "code",
        "colab": {}
      },
      "source": [
        "\n",
        "posts=pd.read_csv('/content/drive/My Drive/data/intern/Mldata/posts.csv')\n",
        "users=pd.read_csv('/content/drive/My Drive/data/intern/Mldata/users.csv')\n",
        "views=pd.read_csv('/content/drive/My Drive/data/intern/Mldata/views.csv')\n"
      ],
      "execution_count": 0,
      "outputs": []
    },
    {
      "cell_type": "code",
      "metadata": {
        "id": "wGfOQ0BH8rAf",
        "colab_type": "code",
        "colab": {}
      },
      "source": [
        "users=users.rename(index=str,columns={\"_id\":\"user_id\"})\n",
        "posts=posts.rename(index=str,columns={\"_id\":\"post_id\"})\n",
        "df = posts.copy()"
      ],
      "execution_count": 0,
      "outputs": []
    },
    {
      "cell_type": "markdown",
      "metadata": {
        "id": "_82zPimiS8zc",
        "colab_type": "text"
      },
      "source": [
        "CONTENT BASED **FILTERING**"
      ]
    },
    {
      "cell_type": "code",
      "metadata": {
        "id": "Zqkn-CbD9Ks4",
        "colab_type": "code",
        "colab": {}
      },
      "source": [
        "df['index'] = df.index"
      ],
      "execution_count": 0,
      "outputs": []
    },
    {
      "cell_type": "code",
      "metadata": {
        "id": "8mViw4RZ_S5Q",
        "colab_type": "code",
        "outputId": "8b4c2838-a58a-4199-85ba-8a2a2b3bcb5e",
        "colab": {
          "base_uri": "https://localhost:8080/",
          "height": 201
        }
      },
      "source": [
        "df.head()"
      ],
      "execution_count": 6,
      "outputs": [
        {
          "output_type": "execute_result",
          "data": {
            "text/html": [
              "<div>\n",
              "<style scoped>\n",
              "    .dataframe tbody tr th:only-of-type {\n",
              "        vertical-align: middle;\n",
              "    }\n",
              "\n",
              "    .dataframe tbody tr th {\n",
              "        vertical-align: top;\n",
              "    }\n",
              "\n",
              "    .dataframe thead th {\n",
              "        text-align: right;\n",
              "    }\n",
              "</style>\n",
              "<table border=\"1\" class=\"dataframe\">\n",
              "  <thead>\n",
              "    <tr style=\"text-align: right;\">\n",
              "      <th></th>\n",
              "      <th>post_id</th>\n",
              "      <th>title</th>\n",
              "      <th>category</th>\n",
              "      <th>post_type</th>\n",
              "      <th>index</th>\n",
              "    </tr>\n",
              "  </thead>\n",
              "  <tbody>\n",
              "    <tr>\n",
              "      <th>0</th>\n",
              "      <td>5d62abaa65218653a132c956</td>\n",
              "      <td>hello there</td>\n",
              "      <td>Plant Biotechnology</td>\n",
              "      <td>blog</td>\n",
              "      <td>0</td>\n",
              "    </tr>\n",
              "    <tr>\n",
              "      <th>1</th>\n",
              "      <td>5d6d39567fa40e1417a4931c</td>\n",
              "      <td>Ml and AI</td>\n",
              "      <td>Artificial Intelligence|Machine Learning|Infor...</td>\n",
              "      <td>blog</td>\n",
              "      <td>1</td>\n",
              "    </tr>\n",
              "    <tr>\n",
              "      <th>2</th>\n",
              "      <td>5d7d23315720533e15c3b1ee</td>\n",
              "      <td>What is an Operating System ?</td>\n",
              "      <td>Operating Systems</td>\n",
              "      <td>blog</td>\n",
              "      <td>2</td>\n",
              "    </tr>\n",
              "    <tr>\n",
              "      <th>3</th>\n",
              "      <td>5d7d405e5720533e15c3b1f3</td>\n",
              "      <td>Lord Shiva</td>\n",
              "      <td>Drawings</td>\n",
              "      <td>artwork</td>\n",
              "      <td>3</td>\n",
              "    </tr>\n",
              "    <tr>\n",
              "      <th>4</th>\n",
              "      <td>5d80dfbc6c53455f896e600e</td>\n",
              "      <td>How Competition law evolved?</td>\n",
              "      <td>Competition Laws</td>\n",
              "      <td>blog</td>\n",
              "      <td>4</td>\n",
              "    </tr>\n",
              "  </tbody>\n",
              "</table>\n",
              "</div>"
            ],
            "text/plain": [
              "                    post_id                          title  ...  post_type index\n",
              "0  5d62abaa65218653a132c956                    hello there  ...       blog     0\n",
              "1  5d6d39567fa40e1417a4931c                      Ml and AI  ...       blog     1\n",
              "2  5d7d23315720533e15c3b1ee  What is an Operating System ?  ...       blog     2\n",
              "3  5d7d405e5720533e15c3b1f3                     Lord Shiva  ...    artwork     3\n",
              "4  5d80dfbc6c53455f896e600e   How Competition law evolved?  ...       blog     4\n",
              "\n",
              "[5 rows x 5 columns]"
            ]
          },
          "metadata": {
            "tags": []
          },
          "execution_count": 6
        }
      ]
    },
    {
      "cell_type": "code",
      "metadata": {
        "id": "AUvCJ-VS0qa9",
        "colab_type": "code",
        "colab": {}
      },
      "source": [
        "\n",
        "from sklearn.feature_extraction.text import CountVectorizer\n",
        "from sklearn.metrics.pairwise import cosine_similarity\n",
        "features = ['category',' post_type','title']\n",
        "def combine_features(row):\n",
        "    return row['category']+\" \"+row[' post_type']+\" \"+row['title']"
      ],
      "execution_count": 0,
      "outputs": []
    },
    {
      "cell_type": "code",
      "metadata": {
        "id": "f0vggjZU1qNn",
        "colab_type": "code",
        "colab": {}
      },
      "source": [
        "for feature in features:\n",
        "  df[feature] = df[feature].fillna('') #filling all NaNs with blank string\n",
        "\n"
      ],
      "execution_count": 0,
      "outputs": []
    },
    {
      "cell_type": "code",
      "metadata": {
        "id": "X_LqcXvX5C03",
        "colab_type": "code",
        "colab": {}
      },
      "source": [
        "df[\"combined_features\"] = df.apply(combine_features,axis=1) "
      ],
      "execution_count": 0,
      "outputs": []
    },
    {
      "cell_type": "code",
      "metadata": {
        "id": "vIxe09cH2CD1",
        "colab_type": "code",
        "colab": {
          "base_uri": "https://localhost:8080/",
          "height": 35
        },
        "outputId": "846f6736-ab3d-4c1f-bd57-769200ef0a6f"
      },
      "source": [
        "df.iloc[0].combined_features"
      ],
      "execution_count": 10,
      "outputs": [
        {
          "output_type": "execute_result",
          "data": {
            "text/plain": [
              "'Plant Biotechnology blog hello there'"
            ]
          },
          "metadata": {
            "tags": []
          },
          "execution_count": 10
        }
      ]
    },
    {
      "cell_type": "code",
      "metadata": {
        "id": "i0XR0RZBC7Mm",
        "colab_type": "code",
        "colab": {}
      },
      "source": [
        "\n",
        "cv = CountVectorizer() #creating new CountVectorizer() object\n",
        "count_matrix = cv.fit_transform(df[\"combined_features\"]) #feeding combined strings(movie contents) to CountVectorizer() object"
      ],
      "execution_count": 0,
      "outputs": []
    },
    {
      "cell_type": "code",
      "metadata": {
        "id": "OZeRWkxPC-7u",
        "colab_type": "code",
        "colab": {}
      },
      "source": [
        "cosine_sim = cosine_similarity(count_matrix)"
      ],
      "execution_count": 0,
      "outputs": []
    },
    {
      "cell_type": "code",
      "metadata": {
        "id": "9-VD3qU8L_8S",
        "colab_type": "code",
        "colab": {}
      },
      "source": [
        "def get_index_from_title(title):\n",
        "    return df[df['title']==title].index.values.astype(int)[0]"
      ],
      "execution_count": 0,
      "outputs": []
    },
    {
      "cell_type": "code",
      "metadata": {
        "id": "KDKJXIGvDJDi",
        "colab_type": "code",
        "colab": {
          "base_uri": "https://localhost:8080/",
          "height": 35
        },
        "outputId": "9b1c7782-f4d2-4b47-c59e-73c93a395a5d"
      },
      "source": [
        "user_view_id = '5d7d405e5720533e15c3b1f3'\n",
        "user_viewd = df.loc[df['post_id'] == user_view_id, 'title'].iloc[0]\n",
        "post_index = get_index_from_title(user_viewd)\n",
        "print(post_index)\n",
        "#similar_post = list(enumerate(cosine_sim[post_index])) #accessing the row corresponding to given movie to find all the similarity scores for that movie and then enumerating over it"
      ],
      "execution_count": 14,
      "outputs": [
        {
          "output_type": "stream",
          "text": [
            "3\n"
          ],
          "name": "stdout"
        }
      ]
    },
    {
      "cell_type": "code",
      "metadata": {
        "id": "vvdf3FXeMG4P",
        "colab_type": "code",
        "colab": {}
      },
      "source": [
        "similar_post = list(enumerate(cosine_sim[post_index])) #accessing the row corresponding to given movie to find all the similarity scores for that movie and then enumerating over it"
      ],
      "execution_count": 0,
      "outputs": []
    },
    {
      "cell_type": "code",
      "metadata": {
        "id": "z7LsXn-EDJyT",
        "colab_type": "code",
        "colab": {}
      },
      "source": [
        "sorted_similar_posts = sorted(similar_post,key=lambda x:x[1],reverse=True)[1:]"
      ],
      "execution_count": 0,
      "outputs": []
    },
    {
      "cell_type": "code",
      "metadata": {
        "id": "oUkxHpClDO4P",
        "colab_type": "code",
        "colab": {
          "base_uri": "https://localhost:8080/",
          "height": 259
        },
        "outputId": "b59c2916-b722-4228-c5ab-f021f5e820af"
      },
      "source": [
        "i=0\n",
        "print(\" 5 similar posts to \"+user_viewd+\" are:\\n\")\n",
        "for element in sorted_similar_posts:\n",
        "    print(df['title'][element[0]]+'_________________category   --------> '+df['category'][element[0]]+'_________TYPE--------->'+df[' post_type'][element[0]])\n",
        "    print()\n",
        "    i=i+1\n",
        "    if i>5:\n",
        "        break"
      ],
      "execution_count": 17,
      "outputs": [
        {
          "output_type": "stream",
          "text": [
            " 5 similar posts to Lord Shiva are:\n",
            "\n",
            "Lord shiva_________________category   --------> Drawings_________TYPE--------->artwork\n",
            "\n",
            "Shiva Portrait_________________category   --------> Drawings_________TYPE--------->artwork\n",
            "\n",
            "Lord shiva (Shadow Drawing)_________________category   --------> Drawings|Artistic design_________TYPE--------->artwork\n",
            "\n",
            "Trident_________________category   --------> Drawings_________TYPE--------->artwork\n",
            "\n",
            "Spartan_________________category   --------> Drawings_________TYPE--------->artwork\n",
            "\n",
            "OM_________________category   --------> Drawings_________TYPE--------->artwork\n",
            "\n"
          ],
          "name": "stdout"
        }
      ]
    },
    {
      "cell_type": "markdown",
      "metadata": {
        "id": "yZp4oJiW66Os",
        "colab_type": "text"
      },
      "source": [
        "Collaborative Filtering Using KNN"
      ]
    },
    {
      "cell_type": "code",
      "metadata": {
        "id": "pGQU93gh-kW0",
        "colab_type": "code",
        "outputId": "72e58a5a-43d4-4530-c771-5a9abee59846",
        "colab": {
          "base_uri": "https://localhost:8080/",
          "height": 242
        }
      },
      "source": [
        "df=pd.merge(views,posts,on=\"post_id\")\n",
        "df.info()"
      ],
      "execution_count": 18,
      "outputs": [
        {
          "output_type": "stream",
          "text": [
            "<class 'pandas.core.frame.DataFrame'>\n",
            "Int64Index: 1447 entries, 0 to 1446\n",
            "Data columns (total 6 columns):\n",
            " #   Column      Non-Null Count  Dtype \n",
            "---  ------      --------------  ----- \n",
            " 0   user_id     1447 non-null   object\n",
            " 1   post_id     1447 non-null   object\n",
            " 2   timestamp   1447 non-null   object\n",
            " 3   title       1447 non-null   object\n",
            " 4   category    1359 non-null   object\n",
            " 5    post_type  1447 non-null   object\n",
            "dtypes: object(6)\n",
            "memory usage: 79.1+ KB\n"
          ],
          "name": "stdout"
        }
      ]
    },
    {
      "cell_type": "code",
      "metadata": {
        "id": "M8yckHHv_XKo",
        "colab_type": "code",
        "outputId": "222fa827-974d-427a-dc5e-71c48762c8bb",
        "colab": {
          "base_uri": "https://localhost:8080/",
          "height": 190
        }
      },
      "source": [
        "views.info()"
      ],
      "execution_count": 19,
      "outputs": [
        {
          "output_type": "stream",
          "text": [
            "<class 'pandas.core.frame.DataFrame'>\n",
            "RangeIndex: 1449 entries, 0 to 1448\n",
            "Data columns (total 3 columns):\n",
            " #   Column     Non-Null Count  Dtype \n",
            "---  ------     --------------  ----- \n",
            " 0   user_id    1449 non-null   object\n",
            " 1   post_id    1449 non-null   object\n",
            " 2   timestamp  1449 non-null   object\n",
            "dtypes: object(3)\n",
            "memory usage: 34.1+ KB\n"
          ],
          "name": "stdout"
        }
      ]
    },
    {
      "cell_type": "code",
      "metadata": {
        "id": "JVkSIBzi_-Ti",
        "colab_type": "code",
        "outputId": "0d307c6b-77f6-4dc6-f003-2f01d9f96aee",
        "colab": {
          "base_uri": "https://localhost:8080/",
          "height": 173
        }
      },
      "source": [
        "views=views.drop('timestamp',1)\n",
        "views.info()"
      ],
      "execution_count": 20,
      "outputs": [
        {
          "output_type": "stream",
          "text": [
            "<class 'pandas.core.frame.DataFrame'>\n",
            "RangeIndex: 1449 entries, 0 to 1448\n",
            "Data columns (total 2 columns):\n",
            " #   Column   Non-Null Count  Dtype \n",
            "---  ------   --------------  ----- \n",
            " 0   user_id  1449 non-null   object\n",
            " 1   post_id  1449 non-null   object\n",
            "dtypes: object(2)\n",
            "memory usage: 22.8+ KB\n"
          ],
          "name": "stdout"
        }
      ]
    },
    {
      "cell_type": "code",
      "metadata": {
        "id": "Z9l10GLhSWlS",
        "colab_type": "code",
        "colab": {
          "base_uri": "https://localhost:8080/",
          "height": 201
        },
        "outputId": "6e41d9a4-5044-4026-d399-522ff4a1f1bd"
      },
      "source": [
        "views.head()"
      ],
      "execution_count": 21,
      "outputs": [
        {
          "output_type": "execute_result",
          "data": {
            "text/html": [
              "<div>\n",
              "<style scoped>\n",
              "    .dataframe tbody tr th:only-of-type {\n",
              "        vertical-align: middle;\n",
              "    }\n",
              "\n",
              "    .dataframe tbody tr th {\n",
              "        vertical-align: top;\n",
              "    }\n",
              "\n",
              "    .dataframe thead th {\n",
              "        text-align: right;\n",
              "    }\n",
              "</style>\n",
              "<table border=\"1\" class=\"dataframe\">\n",
              "  <thead>\n",
              "    <tr style=\"text-align: right;\">\n",
              "      <th></th>\n",
              "      <th>user_id</th>\n",
              "      <th>post_id</th>\n",
              "    </tr>\n",
              "  </thead>\n",
              "  <tbody>\n",
              "    <tr>\n",
              "      <th>0</th>\n",
              "      <td>5df49b32cc709107827fb3c7</td>\n",
              "      <td>5ec821ddec493f4a2655889e</td>\n",
              "    </tr>\n",
              "    <tr>\n",
              "      <th>1</th>\n",
              "      <td>5ed3748576027d35905ccaab</td>\n",
              "      <td>5ed4cbadbd514d602c1531a6</td>\n",
              "    </tr>\n",
              "    <tr>\n",
              "      <th>2</th>\n",
              "      <td>5ed0defa76027d35905cc2de</td>\n",
              "      <td>5eac305f10426255a7aa9dd3</td>\n",
              "    </tr>\n",
              "    <tr>\n",
              "      <th>3</th>\n",
              "      <td>5ed0defa76027d35905cc2de</td>\n",
              "      <td>5ed1ff0276027d35905cc60d</td>\n",
              "    </tr>\n",
              "    <tr>\n",
              "      <th>4</th>\n",
              "      <td>5ed0defa76027d35905cc2de</td>\n",
              "      <td>5ed3820f76027d35905ccac8</td>\n",
              "    </tr>\n",
              "  </tbody>\n",
              "</table>\n",
              "</div>"
            ],
            "text/plain": [
              "                    user_id                   post_id\n",
              "0  5df49b32cc709107827fb3c7  5ec821ddec493f4a2655889e\n",
              "1  5ed3748576027d35905ccaab  5ed4cbadbd514d602c1531a6\n",
              "2  5ed0defa76027d35905cc2de  5eac305f10426255a7aa9dd3\n",
              "3  5ed0defa76027d35905cc2de  5ed1ff0276027d35905cc60d\n",
              "4  5ed0defa76027d35905cc2de  5ed3820f76027d35905ccac8"
            ]
          },
          "metadata": {
            "tags": []
          },
          "execution_count": 21
        }
      ]
    },
    {
      "cell_type": "code",
      "metadata": {
        "id": "dk8h_HwQSaWj",
        "colab_type": "code",
        "colab": {
          "base_uri": "https://localhost:8080/",
          "height": 225
        },
        "outputId": "f975e998-bb66-48c2-eb16-d8964252de6a"
      },
      "source": [
        "views .groupby('post_id')['user_id'].count().sort_values(ascending=False).head(10)"
      ],
      "execution_count": 22,
      "outputs": [
        {
          "output_type": "execute_result",
          "data": {
            "text/plain": [
              "post_id\n",
              "5ec1fd0974f7660d73aa0fd5    18\n",
              "5ecd5d417023451e662235c5    16\n",
              "5ecc1d4eeaff6b0c3a58a565    14\n",
              "5ecce8a5eaff6b0c3a58a5e9    14\n",
              "5eb2c11210426255a7aaa052    14\n",
              "5ec2215374f7660d73aa1011    13\n",
              "5ed09ad076027d35905cc15f    13\n",
              "5ec7a8bdec493f4a26558846    12\n",
              "5ed1ff0276027d35905cc60d    12\n",
              "5ec57acaf2781131cc7e51d5    12\n",
              "Name: user_id, dtype: int64"
            ]
          },
          "metadata": {
            "tags": []
          },
          "execution_count": 22
        }
      ]
    },
    {
      "cell_type": "code",
      "metadata": {
        "id": "ywcjkuZRTRHo",
        "colab_type": "code",
        "colab": {}
      },
      "source": [
        "dfv = pd.DataFrame(views.groupby('post_id')['user_id'].count())\n",
        "dfv = dfv.rename(index=str,columns={\"user_id\":\"views\"})\n"
      ],
      "execution_count": 0,
      "outputs": []
    },
    {
      "cell_type": "code",
      "metadata": {
        "id": "70Akf-Arb_4y",
        "colab_type": "code",
        "outputId": "492d0b33-1e4a-40eb-843c-2c7232354fd2",
        "colab": {
          "base_uri": "https://localhost:8080/",
          "height": 138
        }
      },
      "source": [
        "dfv['views'].sort_values(ascending=False).head()"
      ],
      "execution_count": 28,
      "outputs": [
        {
          "output_type": "execute_result",
          "data": {
            "text/plain": [
              "post_id\n",
              "5ec1fd0974f7660d73aa0fd5    18\n",
              "5ecd5d417023451e662235c5    16\n",
              "5ecc1d4eeaff6b0c3a58a565    14\n",
              "5ecce8a5eaff6b0c3a58a5e9    14\n",
              "5eb2c11210426255a7aaa052    14\n",
              "Name: views, dtype: int64"
            ]
          },
          "metadata": {
            "tags": []
          },
          "execution_count": 28
        }
      ]
    },
    {
      "cell_type": "code",
      "metadata": {
        "id": "-jzMgM2Dd7jx",
        "colab_type": "code",
        "colab": {
          "base_uri": "https://localhost:8080/",
          "height": 282
        },
        "outputId": "142bcb13-3599-4cf2-9377-09c283bf6d4e"
      },
      "source": [
        "import matplotlib.pyplot as plt\n",
        "import numpy as np\n",
        "import seaborn as sns\n",
        "sns.set_style('white')\n",
        "%matplotlib inline\n",
        "plt.figure(figsize=(10,4))\n",
        "dfv['views'].hist(bins=30)"
      ],
      "execution_count": 31,
      "outputs": [
        {
          "output_type": "execute_result",
          "data": {
            "text/plain": [
              "<matplotlib.axes._subplots.AxesSubplot at 0x7fbf608ad6d8>"
            ]
          },
          "metadata": {
            "tags": []
          },
          "execution_count": 31
        },
        {
          "output_type": "display_data",
          "data": {
            "image/png": "[encoded data removed]",
            "text/plain": [
              "<Figure size 720x288 with 1 Axes>"
            ]
          },
          "metadata": {
            "tags": [],
            "needs_background": "light"
          }
        }
      ]
    },
    {
      "cell_type": "code",
      "metadata": {
        "id": "zv8fpKH9vfqS",
        "colab_type": "code",
        "colab": {
          "base_uri": "https://localhost:8080/",
          "height": 201
        },
        "outputId": "93ef41a8-47e3-4f02-cdb8-3e5e5fcf117d"
      },
      "source": [
        "views.head()"
      ],
      "execution_count": 26,
      "outputs": [
        {
          "output_type": "execute_result",
          "data": {
            "text/html": [
              "<div>\n",
              "<style scoped>\n",
              "    .dataframe tbody tr th:only-of-type {\n",
              "        vertical-align: middle;\n",
              "    }\n",
              "\n",
              "    .dataframe tbody tr th {\n",
              "        vertical-align: top;\n",
              "    }\n",
              "\n",
              "    .dataframe thead th {\n",
              "        text-align: right;\n",
              "    }\n",
              "</style>\n",
              "<table border=\"1\" class=\"dataframe\">\n",
              "  <thead>\n",
              "    <tr style=\"text-align: right;\">\n",
              "      <th></th>\n",
              "      <th>user_id</th>\n",
              "      <th>post_id</th>\n",
              "    </tr>\n",
              "  </thead>\n",
              "  <tbody>\n",
              "    <tr>\n",
              "      <th>0</th>\n",
              "      <td>5df49b32cc709107827fb3c7</td>\n",
              "      <td>5ec821ddec493f4a2655889e</td>\n",
              "    </tr>\n",
              "    <tr>\n",
              "      <th>1</th>\n",
              "      <td>5ed3748576027d35905ccaab</td>\n",
              "      <td>5ed4cbadbd514d602c1531a6</td>\n",
              "    </tr>\n",
              "    <tr>\n",
              "      <th>2</th>\n",
              "      <td>5ed0defa76027d35905cc2de</td>\n",
              "      <td>5eac305f10426255a7aa9dd3</td>\n",
              "    </tr>\n",
              "    <tr>\n",
              "      <th>3</th>\n",
              "      <td>5ed0defa76027d35905cc2de</td>\n",
              "      <td>5ed1ff0276027d35905cc60d</td>\n",
              "    </tr>\n",
              "    <tr>\n",
              "      <th>4</th>\n",
              "      <td>5ed0defa76027d35905cc2de</td>\n",
              "      <td>5ed3820f76027d35905ccac8</td>\n",
              "    </tr>\n",
              "  </tbody>\n",
              "</table>\n",
              "</div>"
            ],
            "text/plain": [
              "                    user_id                   post_id\n",
              "0  5df49b32cc709107827fb3c7  5ec821ddec493f4a2655889e\n",
              "1  5ed3748576027d35905ccaab  5ed4cbadbd514d602c1531a6\n",
              "2  5ed0defa76027d35905cc2de  5eac305f10426255a7aa9dd3\n",
              "3  5ed0defa76027d35905cc2de  5ed1ff0276027d35905cc60d\n",
              "4  5ed0defa76027d35905cc2de  5ed3820f76027d35905ccac8"
            ]
          },
          "metadata": {
            "tags": []
          },
          "execution_count": 26
        }
      ]
    },
    {
      "cell_type": "code",
      "metadata": {
        "id": "XFWXBMc7tAJW",
        "colab_type": "code",
        "colab": {}
      },
      "source": [
        "from scipy.sparse import csr_matrix\n",
        "# pivot ratings into movie features\n",
        "views['value'] = 1\n",
        "user_features = views.pivot_table(index='post_id',columns='user_id',values='value').fillna(0)\n"
      ],
      "execution_count": 0,
      "outputs": []
    },
    {
      "cell_type": "code",
      "metadata": {
        "id": "cLLdVD0nw_wy",
        "colab_type": "code",
        "colab": {}
      },
      "source": [
        "mat_user_features = csr_matrix(user_features.values)"
      ],
      "execution_count": 0,
      "outputs": []
    },
    {
      "cell_type": "code",
      "metadata": {
        "id": "6F0dubpOxIHR",
        "colab_type": "code",
        "colab": {
          "base_uri": "https://localhost:8080/",
          "height": 280
        },
        "outputId": "eaa08e92-6db4-4e96-f8ee-9f2f629869be"
      },
      "source": [
        "user_features.head()"
      ],
      "execution_count": 34,
      "outputs": [
        {
          "output_type": "execute_result",
          "data": {
            "text/html": [
              "<div>\n",
              "<style scoped>\n",
              "    .dataframe tbody tr th:only-of-type {\n",
              "        vertical-align: middle;\n",
              "    }\n",
              "\n",
              "    .dataframe tbody tr th {\n",
              "        vertical-align: top;\n",
              "    }\n",
              "\n",
              "    .dataframe thead th {\n",
              "        text-align: right;\n",
              "    }\n",
              "</style>\n",
              "<table border=\"1\" class=\"dataframe\">\n",
              "  <thead>\n",
              "    <tr style=\"text-align: right;\">\n",
              "      <th>user_id</th>\n",
              "      <th>5d60098a653a331687083238</th>\n",
              "      <th>5d610ae1653a331687083239</th>\n",
              "      <th>5d618359fc5fcf3bdd9a0910</th>\n",
              "      <th>5d6d2bb87fa40e1417a49315</th>\n",
              "      <th>5d7c994d5720533e15c3b1e9</th>\n",
              "      <th>5d90fc1a641ef364939fb6cc</th>\n",
              "      <th>5d9a2982979d5962253c2f81</th>\n",
              "      <th>5de50d768eab6401affbb135</th>\n",
              "      <th>5ded443342a8854bf6eaba9a</th>\n",
              "      <th>5deeef6142a8854bf6eabab9</th>\n",
              "      <th>5defd51362624b0135ea9fd2</th>\n",
              "      <th>5df11ee1ee4bb5252b4f5344</th>\n",
              "      <th>5df20f1fee4bb5252b4f5351</th>\n",
              "      <th>5df24eeaee4bb5252b4f5366</th>\n",
              "      <th>5df3f8f2ee4bb5252b4f5393</th>\n",
              "      <th>5df49b32cc709107827fb3c7</th>\n",
              "      <th>5e0d5ce12a37d20505da2a5d</th>\n",
              "      <th>5e1ef04c2a37d20505da2b8b</th>\n",
              "      <th>5e26bb482a37d20505da2c10</th>\n",
              "      <th>5e3563348d344822fed4d13a</th>\n",
              "      <th>5e35a5ed8d344822fed4d13e</th>\n",
              "      <th>5e365e758d344822fed4d144</th>\n",
              "      <th>5e37b16ceab55d319938a6f8</th>\n",
              "      <th>5e4195c3eab55d319938a82c</th>\n",
              "      <th>5e4ce251f5561b1994c8e40d</th>\n",
              "      <th>5e5855ced701ab08af792b51</th>\n",
              "      <th>5e5af599d701ab08af792b63</th>\n",
              "      <th>5e5b4511d701ab08af792b6d</th>\n",
              "      <th>5e5dfbbefbc8805f69e02c91</th>\n",
              "      <th>5e783375cfc8b713f5ac7c5b</th>\n",
              "      <th>5e78ce84cfc8b713f5ac7cee</th>\n",
              "      <th>5e7b30a6cfc8b713f5ac7d95</th>\n",
              "      <th>5e7cf05bcfc8b713f5ac7db7</th>\n",
              "      <th>5e7dde87a3258347b42f2108</th>\n",
              "      <th>5e7de336a3258347b42f210e</th>\n",
              "      <th>5e7def80a3258347b42f2124</th>\n",
              "      <th>5e7f4ad1a3258347b42f2155</th>\n",
              "      <th>5e822b86a3258347b42f2360</th>\n",
              "      <th>5e8309c4a3258347b42f23f4</th>\n",
              "      <th>5e840a75a3258347b42f2437</th>\n",
              "      <th>...</th>\n",
              "      <th>5eb4f73910426255a7aaa0cc</th>\n",
              "      <th>5eb508ae10426255a7aaa12c</th>\n",
              "      <th>5eb7aeccfd92f539c465ddd7</th>\n",
              "      <th>5ebc2ec4514aab59896bcc84</th>\n",
              "      <th>5ebcf2f2514aab59896bcd00</th>\n",
              "      <th>5ec11abc74f7660d73aa0fbd</th>\n",
              "      <th>5ec2204374f7660d73aa100f</th>\n",
              "      <th>5ec3ba5374f7660d73aa1201</th>\n",
              "      <th>5ec553e2f2781131cc7e5138</th>\n",
              "      <th>5ecb979eeaff6b0c3a58a4f0</th>\n",
              "      <th>5ecd5a5c7023451e662235c1</th>\n",
              "      <th>5ecdf7397023451e66223784</th>\n",
              "      <th>5ece02427023451e66223861</th>\n",
              "      <th>5ecf6e6576027d35905cbeec</th>\n",
              "      <th>5ecfa94676027d35905cbf78</th>\n",
              "      <th>5ecfaa0076027d35905cbf83</th>\n",
              "      <th>5ecfbcb376027d35905cbfe5</th>\n",
              "      <th>5ecfdaa976027d35905cc02c</th>\n",
              "      <th>5ed09e8576027d35905cc164</th>\n",
              "      <th>5ed0bfc176027d35905cc1f8</th>\n",
              "      <th>5ed0cfc676027d35905cc26a</th>\n",
              "      <th>5ed0d9bc76027d35905cc2c2</th>\n",
              "      <th>5ed0defa76027d35905cc2de</th>\n",
              "      <th>5ed0dfec76027d35905cc2ec</th>\n",
              "      <th>5ed0fc0976027d35905cc448</th>\n",
              "      <th>5ed12ae476027d35905cc4a1</th>\n",
              "      <th>5ed13bb076027d35905cc4ba</th>\n",
              "      <th>5ed142cd76027d35905cc4cd</th>\n",
              "      <th>5ed232b976027d35905cc689</th>\n",
              "      <th>5ed237ee76027d35905cc6c5</th>\n",
              "      <th>5ed2399b76027d35905cc70f</th>\n",
              "      <th>5ed24d5a76027d35905cc7d7</th>\n",
              "      <th>5ed2672576027d35905cc7f6</th>\n",
              "      <th>5ed2edf176027d35905cc961</th>\n",
              "      <th>5ed350ed76027d35905cca2c</th>\n",
              "      <th>5ed35aa376027d35905cca67</th>\n",
              "      <th>5ed3737976027d35905ccaa2</th>\n",
              "      <th>5ed3748576027d35905ccaab</th>\n",
              "      <th>5ed3cbcbbd514d602c1530a7</th>\n",
              "      <th>5ed3e898bd514d602c1530de</th>\n",
              "    </tr>\n",
              "    <tr>\n",
              "      <th>post_id</th>\n",
              "      <th></th>\n",
              "      <th></th>\n",
              "      <th></th>\n",
              "      <th></th>\n",
              "      <th></th>\n",
              "      <th></th>\n",
              "      <th></th>\n",
              "      <th></th>\n",
              "      <th></th>\n",
              "      <th></th>\n",
              "      <th></th>\n",
              "      <th></th>\n",
              "      <th></th>\n",
              "      <th></th>\n",
              "      <th></th>\n",
              "      <th></th>\n",
              "      <th></th>\n",
              "      <th></th>\n",
              "      <th></th>\n",
              "      <th></th>\n",
              "      <th></th>\n",
              "      <th></th>\n",
              "      <th></th>\n",
              "      <th></th>\n",
              "      <th></th>\n",
              "      <th></th>\n",
              "      <th></th>\n",
              "      <th></th>\n",
              "      <th></th>\n",
              "      <th></th>\n",
              "      <th></th>\n",
              "      <th></th>\n",
              "      <th></th>\n",
              "      <th></th>\n",
              "      <th></th>\n",
              "      <th></th>\n",
              "      <th></th>\n",
              "      <th></th>\n",
              "      <th></th>\n",
              "      <th></th>\n",
              "      <th></th>\n",
              "      <th></th>\n",
              "      <th></th>\n",
              "      <th></th>\n",
              "      <th></th>\n",
              "      <th></th>\n",
              "      <th></th>\n",
              "      <th></th>\n",
              "      <th></th>\n",
              "      <th></th>\n",
              "      <th></th>\n",
              "      <th></th>\n",
              "      <th></th>\n",
              "      <th></th>\n",
              "      <th></th>\n",
              "      <th></th>\n",
              "      <th></th>\n",
              "      <th></th>\n",
              "      <th></th>\n",
              "      <th></th>\n",
              "      <th></th>\n",
              "      <th></th>\n",
              "      <th></th>\n",
              "      <th></th>\n",
              "      <th></th>\n",
              "      <th></th>\n",
              "      <th></th>\n",
              "      <th></th>\n",
              "      <th></th>\n",
              "      <th></th>\n",
              "      <th></th>\n",
              "      <th></th>\n",
              "      <th></th>\n",
              "      <th></th>\n",
              "      <th></th>\n",
              "      <th></th>\n",
              "      <th></th>\n",
              "      <th></th>\n",
              "      <th></th>\n",
              "      <th></th>\n",
              "      <th></th>\n",
              "    </tr>\n",
              "  </thead>\n",
              "  <tbody>\n",
              "    <tr>\n",
              "      <th>5d62abaa65218653a132c956</th>\n",
              "      <td>1.0</td>\n",
              "      <td>0.0</td>\n",
              "      <td>0.0</td>\n",
              "      <td>0.0</td>\n",
              "      <td>0.0</td>\n",
              "      <td>0.0</td>\n",
              "      <td>0.0</td>\n",
              "      <td>0.0</td>\n",
              "      <td>0.0</td>\n",
              "      <td>0.0</td>\n",
              "      <td>0.0</td>\n",
              "      <td>0.0</td>\n",
              "      <td>0.0</td>\n",
              "      <td>0.0</td>\n",
              "      <td>0.0</td>\n",
              "      <td>0.0</td>\n",
              "      <td>0.0</td>\n",
              "      <td>0.0</td>\n",
              "      <td>0.0</td>\n",
              "      <td>0.0</td>\n",
              "      <td>0.0</td>\n",
              "      <td>0.0</td>\n",
              "      <td>0.0</td>\n",
              "      <td>0.0</td>\n",
              "      <td>0.0</td>\n",
              "      <td>0.0</td>\n",
              "      <td>0.0</td>\n",
              "      <td>0.0</td>\n",
              "      <td>0.0</td>\n",
              "      <td>0.0</td>\n",
              "      <td>0.0</td>\n",
              "      <td>0.0</td>\n",
              "      <td>0.0</td>\n",
              "      <td>0.0</td>\n",
              "      <td>0.0</td>\n",
              "      <td>0.0</td>\n",
              "      <td>0.0</td>\n",
              "      <td>0.0</td>\n",
              "      <td>0.0</td>\n",
              "      <td>0.0</td>\n",
              "      <td>...</td>\n",
              "      <td>0.0</td>\n",
              "      <td>0.0</td>\n",
              "      <td>0.0</td>\n",
              "      <td>0.0</td>\n",
              "      <td>0.0</td>\n",
              "      <td>0.0</td>\n",
              "      <td>0.0</td>\n",
              "      <td>0.0</td>\n",
              "      <td>0.0</td>\n",
              "      <td>0.0</td>\n",
              "      <td>0.0</td>\n",
              "      <td>0.0</td>\n",
              "      <td>0.0</td>\n",
              "      <td>0.0</td>\n",
              "      <td>0.0</td>\n",
              "      <td>0.0</td>\n",
              "      <td>0.0</td>\n",
              "      <td>0.0</td>\n",
              "      <td>0.0</td>\n",
              "      <td>0.0</td>\n",
              "      <td>0.0</td>\n",
              "      <td>0.0</td>\n",
              "      <td>0.0</td>\n",
              "      <td>0.0</td>\n",
              "      <td>0.0</td>\n",
              "      <td>0.0</td>\n",
              "      <td>0.0</td>\n",
              "      <td>0.0</td>\n",
              "      <td>0.0</td>\n",
              "      <td>0.0</td>\n",
              "      <td>0.0</td>\n",
              "      <td>0.0</td>\n",
              "      <td>0.0</td>\n",
              "      <td>0.0</td>\n",
              "      <td>0.0</td>\n",
              "      <td>0.0</td>\n",
              "      <td>0.0</td>\n",
              "      <td>0.0</td>\n",
              "      <td>0.0</td>\n",
              "      <td>0.0</td>\n",
              "    </tr>\n",
              "    <tr>\n",
              "      <th>5d6d39567fa40e1417a4931c</th>\n",
              "      <td>1.0</td>\n",
              "      <td>0.0</td>\n",
              "      <td>0.0</td>\n",
              "      <td>0.0</td>\n",
              "      <td>0.0</td>\n",
              "      <td>0.0</td>\n",
              "      <td>0.0</td>\n",
              "      <td>0.0</td>\n",
              "      <td>0.0</td>\n",
              "      <td>0.0</td>\n",
              "      <td>0.0</td>\n",
              "      <td>0.0</td>\n",
              "      <td>0.0</td>\n",
              "      <td>0.0</td>\n",
              "      <td>0.0</td>\n",
              "      <td>0.0</td>\n",
              "      <td>0.0</td>\n",
              "      <td>0.0</td>\n",
              "      <td>0.0</td>\n",
              "      <td>0.0</td>\n",
              "      <td>0.0</td>\n",
              "      <td>0.0</td>\n",
              "      <td>0.0</td>\n",
              "      <td>0.0</td>\n",
              "      <td>0.0</td>\n",
              "      <td>0.0</td>\n",
              "      <td>0.0</td>\n",
              "      <td>0.0</td>\n",
              "      <td>0.0</td>\n",
              "      <td>0.0</td>\n",
              "      <td>0.0</td>\n",
              "      <td>0.0</td>\n",
              "      <td>0.0</td>\n",
              "      <td>0.0</td>\n",
              "      <td>0.0</td>\n",
              "      <td>0.0</td>\n",
              "      <td>0.0</td>\n",
              "      <td>0.0</td>\n",
              "      <td>0.0</td>\n",
              "      <td>0.0</td>\n",
              "      <td>...</td>\n",
              "      <td>0.0</td>\n",
              "      <td>0.0</td>\n",
              "      <td>0.0</td>\n",
              "      <td>0.0</td>\n",
              "      <td>0.0</td>\n",
              "      <td>0.0</td>\n",
              "      <td>0.0</td>\n",
              "      <td>0.0</td>\n",
              "      <td>0.0</td>\n",
              "      <td>0.0</td>\n",
              "      <td>0.0</td>\n",
              "      <td>0.0</td>\n",
              "      <td>0.0</td>\n",
              "      <td>0.0</td>\n",
              "      <td>0.0</td>\n",
              "      <td>0.0</td>\n",
              "      <td>0.0</td>\n",
              "      <td>0.0</td>\n",
              "      <td>0.0</td>\n",
              "      <td>0.0</td>\n",
              "      <td>0.0</td>\n",
              "      <td>0.0</td>\n",
              "      <td>0.0</td>\n",
              "      <td>0.0</td>\n",
              "      <td>0.0</td>\n",
              "      <td>0.0</td>\n",
              "      <td>0.0</td>\n",
              "      <td>0.0</td>\n",
              "      <td>0.0</td>\n",
              "      <td>0.0</td>\n",
              "      <td>0.0</td>\n",
              "      <td>0.0</td>\n",
              "      <td>0.0</td>\n",
              "      <td>0.0</td>\n",
              "      <td>0.0</td>\n",
              "      <td>0.0</td>\n",
              "      <td>0.0</td>\n",
              "      <td>0.0</td>\n",
              "      <td>0.0</td>\n",
              "      <td>0.0</td>\n",
              "    </tr>\n",
              "    <tr>\n",
              "      <th>5d7d23315720533e15c3b1ee</th>\n",
              "      <td>0.0</td>\n",
              "      <td>0.0</td>\n",
              "      <td>0.0</td>\n",
              "      <td>0.0</td>\n",
              "      <td>0.0</td>\n",
              "      <td>0.0</td>\n",
              "      <td>0.0</td>\n",
              "      <td>0.0</td>\n",
              "      <td>0.0</td>\n",
              "      <td>0.0</td>\n",
              "      <td>0.0</td>\n",
              "      <td>0.0</td>\n",
              "      <td>1.0</td>\n",
              "      <td>0.0</td>\n",
              "      <td>0.0</td>\n",
              "      <td>0.0</td>\n",
              "      <td>0.0</td>\n",
              "      <td>0.0</td>\n",
              "      <td>0.0</td>\n",
              "      <td>0.0</td>\n",
              "      <td>0.0</td>\n",
              "      <td>0.0</td>\n",
              "      <td>0.0</td>\n",
              "      <td>0.0</td>\n",
              "      <td>0.0</td>\n",
              "      <td>0.0</td>\n",
              "      <td>0.0</td>\n",
              "      <td>0.0</td>\n",
              "      <td>0.0</td>\n",
              "      <td>0.0</td>\n",
              "      <td>0.0</td>\n",
              "      <td>0.0</td>\n",
              "      <td>0.0</td>\n",
              "      <td>0.0</td>\n",
              "      <td>0.0</td>\n",
              "      <td>0.0</td>\n",
              "      <td>0.0</td>\n",
              "      <td>0.0</td>\n",
              "      <td>0.0</td>\n",
              "      <td>0.0</td>\n",
              "      <td>...</td>\n",
              "      <td>0.0</td>\n",
              "      <td>0.0</td>\n",
              "      <td>0.0</td>\n",
              "      <td>0.0</td>\n",
              "      <td>0.0</td>\n",
              "      <td>0.0</td>\n",
              "      <td>0.0</td>\n",
              "      <td>0.0</td>\n",
              "      <td>0.0</td>\n",
              "      <td>0.0</td>\n",
              "      <td>0.0</td>\n",
              "      <td>0.0</td>\n",
              "      <td>0.0</td>\n",
              "      <td>0.0</td>\n",
              "      <td>0.0</td>\n",
              "      <td>0.0</td>\n",
              "      <td>0.0</td>\n",
              "      <td>0.0</td>\n",
              "      <td>0.0</td>\n",
              "      <td>0.0</td>\n",
              "      <td>0.0</td>\n",
              "      <td>0.0</td>\n",
              "      <td>0.0</td>\n",
              "      <td>0.0</td>\n",
              "      <td>0.0</td>\n",
              "      <td>0.0</td>\n",
              "      <td>0.0</td>\n",
              "      <td>0.0</td>\n",
              "      <td>0.0</td>\n",
              "      <td>0.0</td>\n",
              "      <td>0.0</td>\n",
              "      <td>0.0</td>\n",
              "      <td>0.0</td>\n",
              "      <td>0.0</td>\n",
              "      <td>0.0</td>\n",
              "      <td>0.0</td>\n",
              "      <td>0.0</td>\n",
              "      <td>0.0</td>\n",
              "      <td>0.0</td>\n",
              "      <td>0.0</td>\n",
              "    </tr>\n",
              "    <tr>\n",
              "      <th>5d7d405e5720533e15c3b1f3</th>\n",
              "      <td>0.0</td>\n",
              "      <td>0.0</td>\n",
              "      <td>0.0</td>\n",
              "      <td>0.0</td>\n",
              "      <td>1.0</td>\n",
              "      <td>0.0</td>\n",
              "      <td>0.0</td>\n",
              "      <td>0.0</td>\n",
              "      <td>0.0</td>\n",
              "      <td>0.0</td>\n",
              "      <td>0.0</td>\n",
              "      <td>0.0</td>\n",
              "      <td>1.0</td>\n",
              "      <td>0.0</td>\n",
              "      <td>0.0</td>\n",
              "      <td>0.0</td>\n",
              "      <td>0.0</td>\n",
              "      <td>0.0</td>\n",
              "      <td>0.0</td>\n",
              "      <td>0.0</td>\n",
              "      <td>0.0</td>\n",
              "      <td>0.0</td>\n",
              "      <td>1.0</td>\n",
              "      <td>0.0</td>\n",
              "      <td>0.0</td>\n",
              "      <td>0.0</td>\n",
              "      <td>0.0</td>\n",
              "      <td>0.0</td>\n",
              "      <td>0.0</td>\n",
              "      <td>0.0</td>\n",
              "      <td>0.0</td>\n",
              "      <td>0.0</td>\n",
              "      <td>0.0</td>\n",
              "      <td>0.0</td>\n",
              "      <td>0.0</td>\n",
              "      <td>0.0</td>\n",
              "      <td>0.0</td>\n",
              "      <td>0.0</td>\n",
              "      <td>0.0</td>\n",
              "      <td>0.0</td>\n",
              "      <td>...</td>\n",
              "      <td>0.0</td>\n",
              "      <td>0.0</td>\n",
              "      <td>0.0</td>\n",
              "      <td>0.0</td>\n",
              "      <td>0.0</td>\n",
              "      <td>0.0</td>\n",
              "      <td>0.0</td>\n",
              "      <td>0.0</td>\n",
              "      <td>0.0</td>\n",
              "      <td>0.0</td>\n",
              "      <td>0.0</td>\n",
              "      <td>0.0</td>\n",
              "      <td>0.0</td>\n",
              "      <td>0.0</td>\n",
              "      <td>0.0</td>\n",
              "      <td>0.0</td>\n",
              "      <td>0.0</td>\n",
              "      <td>0.0</td>\n",
              "      <td>0.0</td>\n",
              "      <td>0.0</td>\n",
              "      <td>0.0</td>\n",
              "      <td>0.0</td>\n",
              "      <td>0.0</td>\n",
              "      <td>0.0</td>\n",
              "      <td>0.0</td>\n",
              "      <td>0.0</td>\n",
              "      <td>0.0</td>\n",
              "      <td>0.0</td>\n",
              "      <td>0.0</td>\n",
              "      <td>0.0</td>\n",
              "      <td>0.0</td>\n",
              "      <td>0.0</td>\n",
              "      <td>0.0</td>\n",
              "      <td>0.0</td>\n",
              "      <td>0.0</td>\n",
              "      <td>0.0</td>\n",
              "      <td>0.0</td>\n",
              "      <td>0.0</td>\n",
              "      <td>0.0</td>\n",
              "      <td>0.0</td>\n",
              "    </tr>\n",
              "    <tr>\n",
              "      <th>5d80dfbc6c53455f896e600e</th>\n",
              "      <td>0.0</td>\n",
              "      <td>1.0</td>\n",
              "      <td>0.0</td>\n",
              "      <td>0.0</td>\n",
              "      <td>0.0</td>\n",
              "      <td>0.0</td>\n",
              "      <td>0.0</td>\n",
              "      <td>0.0</td>\n",
              "      <td>0.0</td>\n",
              "      <td>0.0</td>\n",
              "      <td>0.0</td>\n",
              "      <td>0.0</td>\n",
              "      <td>0.0</td>\n",
              "      <td>0.0</td>\n",
              "      <td>0.0</td>\n",
              "      <td>0.0</td>\n",
              "      <td>0.0</td>\n",
              "      <td>0.0</td>\n",
              "      <td>0.0</td>\n",
              "      <td>0.0</td>\n",
              "      <td>0.0</td>\n",
              "      <td>0.0</td>\n",
              "      <td>0.0</td>\n",
              "      <td>0.0</td>\n",
              "      <td>0.0</td>\n",
              "      <td>0.0</td>\n",
              "      <td>0.0</td>\n",
              "      <td>0.0</td>\n",
              "      <td>0.0</td>\n",
              "      <td>0.0</td>\n",
              "      <td>0.0</td>\n",
              "      <td>0.0</td>\n",
              "      <td>0.0</td>\n",
              "      <td>0.0</td>\n",
              "      <td>0.0</td>\n",
              "      <td>0.0</td>\n",
              "      <td>0.0</td>\n",
              "      <td>0.0</td>\n",
              "      <td>0.0</td>\n",
              "      <td>0.0</td>\n",
              "      <td>...</td>\n",
              "      <td>0.0</td>\n",
              "      <td>0.0</td>\n",
              "      <td>0.0</td>\n",
              "      <td>0.0</td>\n",
              "      <td>0.0</td>\n",
              "      <td>0.0</td>\n",
              "      <td>0.0</td>\n",
              "      <td>0.0</td>\n",
              "      <td>0.0</td>\n",
              "      <td>1.0</td>\n",
              "      <td>0.0</td>\n",
              "      <td>0.0</td>\n",
              "      <td>0.0</td>\n",
              "      <td>0.0</td>\n",
              "      <td>0.0</td>\n",
              "      <td>0.0</td>\n",
              "      <td>0.0</td>\n",
              "      <td>0.0</td>\n",
              "      <td>0.0</td>\n",
              "      <td>0.0</td>\n",
              "      <td>0.0</td>\n",
              "      <td>0.0</td>\n",
              "      <td>0.0</td>\n",
              "      <td>0.0</td>\n",
              "      <td>0.0</td>\n",
              "      <td>0.0</td>\n",
              "      <td>0.0</td>\n",
              "      <td>0.0</td>\n",
              "      <td>0.0</td>\n",
              "      <td>0.0</td>\n",
              "      <td>0.0</td>\n",
              "      <td>0.0</td>\n",
              "      <td>0.0</td>\n",
              "      <td>0.0</td>\n",
              "      <td>0.0</td>\n",
              "      <td>0.0</td>\n",
              "      <td>0.0</td>\n",
              "      <td>0.0</td>\n",
              "      <td>0.0</td>\n",
              "      <td>0.0</td>\n",
              "    </tr>\n",
              "  </tbody>\n",
              "</table>\n",
              "<p>5 rows × 118 columns</p>\n",
              "</div>"
            ],
            "text/plain": [
              "user_id                   5d60098a653a331687083238  ...  5ed3e898bd514d602c1530de\n",
              "post_id                                             ...                          \n",
              "5d62abaa65218653a132c956                       1.0  ...                       0.0\n",
              "5d6d39567fa40e1417a4931c                       1.0  ...                       0.0\n",
              "5d7d23315720533e15c3b1ee                       0.0  ...                       0.0\n",
              "5d7d405e5720533e15c3b1f3                       0.0  ...                       0.0\n",
              "5d80dfbc6c53455f896e600e                       0.0  ...                       0.0\n",
              "\n",
              "[5 rows x 118 columns]"
            ]
          },
          "metadata": {
            "tags": []
          },
          "execution_count": 34
        }
      ]
    },
    {
      "cell_type": "code",
      "metadata": {
        "id": "ei7DRN92xUyD",
        "colab_type": "code",
        "colab": {}
      },
      "source": [
        "from sklearn.neighbors import NearestNeighbors\n",
        "model_knn = NearestNeighbors(metric='cosine', algorithm='brute', n_neighbors=20, n_jobs=-1)"
      ],
      "execution_count": 0,
      "outputs": []
    },
    {
      "cell_type": "code",
      "metadata": {
        "id": "O3uwRIeExa24",
        "colab_type": "code",
        "colab": {
          "base_uri": "https://localhost:8080/",
          "height": 35
        },
        "outputId": "7499375a-53a7-4390-d4e2-2711067a9086"
      },
      "source": [
        "num_users = len(views.user_id.unique())\n",
        "num_posts = len(views.post_id.unique())\n",
        "print('There are {} unique users and {} unique movies in this data set'.format(num_users, num_posts))"
      ],
      "execution_count": 36,
      "outputs": [
        {
          "output_type": "stream",
          "text": [
            "There are 118 unique users and 495 unique movies in this data set\n"
          ],
          "name": "stdout"
        }
      ]
    },
    {
      "cell_type": "code",
      "metadata": {
        "id": "T4UA3t3Xxp1P",
        "colab_type": "code",
        "colab": {
          "base_uri": "https://localhost:8080/",
          "height": 69
        },
        "outputId": "6c5f4325-8397-4ad6-a576-bd319e5ad230"
      },
      "source": [
        "model_knn.fit(mat_user_features)"
      ],
      "execution_count": 37,
      "outputs": [
        {
          "output_type": "execute_result",
          "data": {
            "text/plain": [
              "NearestNeighbors(algorithm='brute', leaf_size=30, metric='cosine',\n",
              "                 metric_params=None, n_jobs=-1, n_neighbors=20, p=2,\n",
              "                 radius=1.0)"
            ]
          },
          "metadata": {
            "tags": []
          },
          "execution_count": 37
        }
      ]
    },
    {
      "cell_type": "code",
      "metadata": {
        "id": "5ovMrP291fW-",
        "colab_type": "code",
        "colab": {
          "base_uri": "https://localhost:8080/",
          "height": 121
        },
        "outputId": "4ece8a22-caa5-4ba2-cbac-eb23901ad8c3"
      },
      "source": [
        "query_index = np.random.choice(user_features.shape[0])\n",
        "distances,indices = model_knn.kneighbors(user_features.iloc[query_index,:].values.reshape(1,-1),n_neighbors=5)\n",
        "for i in range(0,len(distances.flatten())):\n",
        "  if i==0:\n",
        "    print('Recommendation for {0}:\\n'.format(user_features.index[query_index]))\n",
        "  else:\n",
        "    print('{0}:{1}, distace :{2}:'.format(i,user_features.index[indices.flatten()[i]],distances.flatten()[i]))\n",
        "\n"
      ],
      "execution_count": 41,
      "outputs": [
        {
          "output_type": "stream",
          "text": [
            "Recommendation for 5e7f39a3a3258347b42f2151:\n",
            "\n",
            "1:5eb4fbe910426255a7aaa105, distace :0.42264973081037427:\n",
            "2:5e88383aa3258347b42f255c, distace :0.42264973081037427:\n",
            "3:5eabeec210426255a7aa9cd2, distace :0.42264973081037427:\n",
            "4:5eaf8b9310426255a7aa9f7e, distace :0.5:\n"
          ],
          "name": "stdout"
        }
      ]
    },
    {
      "cell_type": "code",
      "metadata": {
        "id": "3x9hZwN378_C",
        "colab_type": "code",
        "colab": {}
      },
      "source": [
        ""
      ],
      "execution_count": 0,
      "outputs": []
    }
  ]
}